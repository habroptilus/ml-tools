{
 "cells": [
  {
   "cell_type": "markdown",
   "metadata": {},
   "source": [
    "# ラプラス正則化による半教師あり学習"
   ]
  },
  {
   "cell_type": "code",
   "execution_count": 1,
   "metadata": {},
   "outputs": [],
   "source": [
    "import sys,os\n",
    "sys.path.append(os.pardir)\n",
    "from tools.models.classifiers.laplacian_regularization_classifier import LaplacianRegularizationClassifier"
   ]
  },
  {
   "cell_type": "code",
   "execution_count": 2,
   "metadata": {},
   "outputs": [],
   "source": [
    "import numpy as np"
   ]
  },
  {
   "cell_type": "code",
   "execution_count": 3,
   "metadata": {},
   "outputs": [],
   "source": [
    "def generate(n,seed=None):\n",
    "    pos_n=n//2\n",
    "    neg_n=n-pos_n\n",
    "    np.random.seed(seed)\n",
    "    pos = np.linspace(0, np.pi,pos_n)\n",
    "    x_1 = -10*np.cos(pos)+5 + np.random.randn(pos_n)\n",
    "    x_2 = -10*np.sin(pos) +np.random.randn(pos_n)\n",
    "    pos_x=(-10*np.array([x_1,x_2])).T\n",
    "    neg = np.linspace(0, np.pi,neg_n)\n",
    "    x_1 = -10*np.cos(neg)-5 +np.random.randn(neg_n)\n",
    "    x_2 = 10* np.sin(neg) +np.random.randn(neg_n)\n",
    "    neg_x=(-10*np.array([x_1,x_2])).T\n",
    "    X=np.concatenate([pos_x,neg_x])\n",
    "    y=np.array([None]*n)\n",
    "    y[pos_n]=-1\n",
    "    y[pos_n-1]=1\n",
    "    return X,y"
   ]
  },
  {
   "cell_type": "code",
   "execution_count": 4,
   "metadata": {},
   "outputs": [],
   "source": [
    "import matplotlib.pyplot as plt\n",
    "\n",
    "class SemiSupervisedPlotter:\n",
    "    def __init__(self):\n",
    "        pass\n",
    "    def plot(self, X, y, title):\n",
    "        \"\"\"\n",
    "        X data (dim = 2)\n",
    "        y label {+1, None(unlabeled), -1}\n",
    "        \"\"\"\n",
    "        plt.figure()\n",
    "        x = X[y == 1]\n",
    "        plt.scatter(x[:, 0], x[:, 1], c=\"blue\",marker=\"o\")\n",
    "        x = X[y == -1]\n",
    "        plt.scatter(x[:, 0], x[:, 1], c=\"red\",marker=\"x\")\n",
    "        x = X[y == None]\n",
    "        plt.scatter(x[:, 0], x[:, 1], c=\"black\",marker=\".\")\n",
    "        plt.title(title)\n",
    "        plt.show()\n"
   ]
  },
  {
   "cell_type": "code",
   "execution_count": 5,
   "metadata": {},
   "outputs": [],
   "source": [
    "N=200\n",
    "SEED=0"
   ]
  },
  {
   "cell_type": "code",
   "execution_count": 6,
   "metadata": {},
   "outputs": [],
   "source": [
    "X,y=generate(N,SEED)"
   ]
  },
  {
   "cell_type": "code",
   "execution_count": 7,
   "metadata": {},
   "outputs": [
    {
     "data": {
      "image/png": "[encoded data removed]",
      "text/plain": [
       "<matplotlib.figure.Figure at 0x112c3b048>"
      ]
     },
     "metadata": {},
     "output_type": "display_data"
    }
   ],
   "source": [
    "plotter=SemiSupervisedPlotter()\n",
    "plotter.plot(X,y,\"Generated\")"
   ]
  },
  {
   "cell_type": "code",
   "execution_count": 8,
   "metadata": {},
   "outputs": [],
   "source": [
    "model=LaplacianRegularizationClassifier(lam=1,nu=1,h_w=1000,h_m=1000)"
   ]
  },
  {
   "cell_type": "code",
   "execution_count": 9,
   "metadata": {},
   "outputs": [],
   "source": [
    "model.fit(X,y)"
   ]
  },
  {
   "cell_type": "code",
   "execution_count": 10,
   "metadata": {},
   "outputs": [
    {
     "data": {
      "text/plain": [
       "array([ 1,  1,  1,  1,  1,  1,  1,  1,  1,  1,  1,  1,  1,  1,  1,  1,  1,\n",
       "        1,  1,  1,  1,  1,  1,  1,  1,  1,  1,  1,  1,  1,  1,  1,  1,  1,\n",
       "        1,  1,  1,  1,  1,  1,  1,  1,  1,  1,  1,  1,  1,  1,  1,  1,  1,\n",
       "        1,  1,  1,  1,  1,  1,  1,  1,  1,  1,  1,  1,  1,  1,  1,  1,  1,\n",
       "        1,  1,  1,  1,  1,  1,  1,  1,  1,  1,  1,  1,  1,  1,  1,  1,  1,\n",
       "        1,  1,  1,  1,  1,  1,  1,  1,  1,  1,  1,  1,  1,  1,  1, -1,  1,\n",
       "        1,  1,  1, -1,  1,  1,  1,  1,  1,  1,  1,  1,  1,  1,  1,  1,  1,\n",
       "        1,  1,  1,  1,  1,  1,  1,  1,  1,  1,  1,  1,  1,  1,  1,  1,  1,\n",
       "        1,  1,  1,  1,  1,  1,  1,  1,  1,  1,  1,  1,  1,  1,  1,  1,  1,\n",
       "        1,  1,  1,  1,  1,  1,  1,  1,  1,  1,  1,  1,  1,  1,  1,  1,  1,\n",
       "        1,  1,  1,  1,  1,  1,  1,  1,  1,  1,  1,  1,  1,  1,  1,  1,  1,\n",
       "        1,  1,  1,  1,  1,  1,  1,  1,  1,  1,  1,  1,  1])"
      ]
     },
     "execution_count": 10,
     "metadata": {},
     "output_type": "execute_result"
    }
   ],
   "source": [
    "model.predict(X)"
   ]
  },
  {
   "cell_type": "code",
   "execution_count": null,
   "metadata": {},
   "outputs": [],
   "source": []
  }
 ],
 "metadata": {
  "kernelspec": {
   "display_name": "Python 3",
   "language": "python",
   "name": "python3"
  },
  "language_info": {
   "codemirror_mode": {
    "name": "ipython",
    "version": 3
   },
   "file_extension": ".py",
   "mimetype": "text/x-python",
   "name": "python",
   "nbconvert_exporter": "python",
   "pygments_lexer": "ipython3",
   "version": "3.6.2"
  }
 },
 "nbformat": 4,
 "nbformat_minor": 2
}
