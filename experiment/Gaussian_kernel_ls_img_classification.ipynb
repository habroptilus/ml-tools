{
 "cells": [
  {
   "cell_type": "markdown",
   "metadata": {},
   "source": [
    "# ガウスカーネル最小二乗分類を手書き数字分類に適用"
   ]
  },
  {
   "cell_type": "code",
   "execution_count": 1,
   "metadata": {},
   "outputs": [],
   "source": [
    "import sys,os\n",
    "sys.path.append(os.pardir)\n",
    "from tools.utils.multi_cls.one_vs_rest_classifier import OneVsRestClassifier\n",
    "from tools.models.classifiers.gaussian_kernel_ls_classifier import GaussianKernelLSBinaryClassifier\n",
    "from tools.utils.data_loader.digit_data_loader import DigitDataLoader\n",
    "from sklearn.linear_model import LogisticRegression"
   ]
  },
  {
   "cell_type": "code",
   "execution_count": 5,
   "metadata": {},
   "outputs": [
    {
     "name": "stdout",
     "output_type": "stream",
     "text": [
      "(4990, 256) (4990, 256) (1990, 256) (1990, 256)\n"
     ]
    }
   ],
   "source": [
    "CLASS_NUM = 10\n",
    "\n",
    "data_loader = DigitDataLoader(class_num=CLASS_NUM)\n",
    "X_train, y_train, X_test, y_test = data_loader.load()\n",
    "print(X_train.shape, X_train.shape, X_test.shape, X_test.shape)"
   ]
  },
  {
   "cell_type": "code",
   "execution_count": 3,
   "metadata": {},
   "outputs": [
    {
     "name": "stdout",
     "output_type": "stream",
     "text": [
      "Training classifier0...\n",
      "Training classifier1...\n",
      "Training classifier2...\n",
      "Test Accuracy = 87.77%\n"
     ]
    }
   ],
   "source": [
    "# gaussian kernel\n",
    "params = {\"h\": 1000, \"c\": 0}\n",
    "multi_classifier = OneVsRestClassifier(\n",
    "    class_num=CLASS_NUM, classifier=GaussianKernelLSBinaryClassifier, params=params)\n",
    "\n",
    "multi_classifier.fit(X_train, y_train)\n",
    "acc = multi_classifier.evaluate(X_test, y_test)\n",
    "\n",
    "print(f\"Test Accuracy = {acc*100:.2f}%\")"
   ]
  },
  {
   "cell_type": "code",
   "execution_count": 6,
   "metadata": {},
   "outputs": [
    {
     "name": "stdout",
     "output_type": "stream",
     "text": [
      "Training classifier0...\n",
      "Training classifier1...\n",
      "Training classifier2...\n",
      "Training classifier3...\n",
      "Training classifier4...\n",
      "Training classifier5...\n",
      "Training classifier6...\n",
      "Training classifier7...\n",
      "Training classifier8...\n",
      "Training classifier9...\n",
      "Test Accuracy = 93.42%\n"
     ]
    }
   ],
   "source": [
    "# logistic regression\n",
    "multi_classifier = OneVsRestClassifier(\n",
    "    class_num=CLASS_NUM, classifier=LogisticRegression)\n",
    "\n",
    "multi_classifier.fit(X_train, y_train)\n",
    "acc = multi_classifier.evaluate(X_test, y_test)\n",
    "\n",
    "print(f\"Test Accuracy = {acc*100:.2f}%\")"
   ]
  },
  {
   "cell_type": "code",
   "execution_count": 9,
   "metadata": {},
   "outputs": [
    {
     "name": "stdout",
     "output_type": "stream",
     "text": [
      "Test Accuracy = 93.42%\n"
     ]
    }
   ],
   "source": [
    "model=LogisticRegression()\n",
    "model.fit(X_train,y_train)\n",
    "acc=model.score(X_test,y_test)\n",
    "print(f\"Test Accuracy = {acc*100:.2f}%\")"
   ]
  },
  {
   "cell_type": "code",
   "execution_count": null,
   "metadata": {},
   "outputs": [],
   "source": []
  }
 ],
 "metadata": {
  "kernelspec": {
   "display_name": "Python 3",
   "language": "python",
   "name": "python3"
  },
  "language_info": {
   "codemirror_mode": {
    "name": "ipython",
    "version": 3
   },
   "file_extension": ".py",
   "mimetype": "text/x-python",
   "name": "python",
   "nbconvert_exporter": "python",
   "pygments_lexer": "ipython3",
   "version": "3.6.2"
  }
 },
 "nbformat": 4,
 "nbformat_minor": 2
}
