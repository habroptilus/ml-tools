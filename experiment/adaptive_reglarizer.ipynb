{
 "cells": [
  {
   "cell_type": "code",
   "execution_count": 1,
   "metadata": {},
   "outputs": [],
   "source": [
    "from numpy.random import *\n",
    "import numpy as np\n",
    "import matplotlib.pyplot as plt\n",
    "import sys,os\n",
    "sys.path.append(os.pardir)\n",
    "from tools.models.classifiers.adaptive_reglarizer_hinge_classifier import AdaptiveReglarizerHingeClassifier\n",
    "from sklearn.model_selection import train_test_split"
   ]
  },
  {
   "cell_type": "code",
   "execution_count": 2,
   "metadata": {},
   "outputs": [],
   "source": [
    "N=100\n",
    "OUTLIERS=[0,3]"
   ]
  },
  {
   "cell_type": "code",
   "execution_count": 3,
   "metadata": {},
   "outputs": [],
   "source": [
    "def generate(n,outliers):\n",
    "    x_1_pos=randn(n//2)-15\n",
    "    x_1_neg=randn(n//2)-5\n",
    "    for i in outliers:\n",
    "        x_1_pos[i]+=10\n",
    "    x2= randn(n)\n",
    "    y_pos=np.ones(n//2)\n",
    "    y_neg=-np.ones(n//2)\n",
    "    x1=np.concatenate([x_1_pos,x_1_neg])\n",
    "    y=np.concatenate([y_pos,y_neg])\n",
    "    X=np.concatenate([np.reshape(x1,(len(x1),1)),np.reshape(x2,(len(x2),1))],axis=1)\n",
    "    p = np.random.permutation(len(X))\n",
    "    X = X[p]\n",
    "    y = y[p]\n",
    "    return X,y"
   ]
  },
  {
   "cell_type": "code",
   "execution_count": 4,
   "metadata": {},
   "outputs": [],
   "source": [
    "def plot_generated_data(X,y):\n",
    "    x1=X[:,0]\n",
    "    x2=X[:,1]\n",
    "    fig = plt.figure()\n",
    "    ax = fig.add_subplot(111)\n",
    "\n",
    "    ax.scatter(x1[y==1],x2[y==1],color='blue',marker=\"o\")\n",
    "    ax.scatter(x1[y==-1],x2[y==-1],color='red',marker=\"x\")\n",
    "\n",
    "\n",
    "    plt.title(\"Generated Data\")\n",
    "    plt.xlabel(\"x1\")\n",
    "    plt.ylabel(\"x2\")\n",
    "    plt.show()"
   ]
  },
  {
   "cell_type": "code",
   "execution_count": 5,
   "metadata": {},
   "outputs": [],
   "source": [
    "def plot_boundary(X,y,mu):\n",
    "    x1=X[:,0]\n",
    "    x2=X[:,1]\n",
    "    fig = plt.figure()\n",
    "    ax = fig.add_subplot(111)\n",
    "\n",
    "    ax.scatter(x1[y==1],x2[y==1],color='blue',marker=\"o\")\n",
    "    ax.scatter(x1[y==-1],x2[y==-1],color='red',marker=\"x\")\n",
    "    \n",
    "    \n",
    "    x = np.linspace(min(X[:,0]), max(X[:,0]),100)\n",
    "    y = -(mu[1] * x + mu[0])/mu[2] \n",
    "    \n",
    "    ax.plot(x, y, color='black')\n",
    "    plt.title(\"Result\")\n",
    "    plt.xlabel(\"x1\")\n",
    "    plt.ylabel(\"x2\")\n",
    "    plt.show()"
   ]
  },
  {
   "cell_type": "code",
   "execution_count": 6,
   "metadata": {},
   "outputs": [
    {
     "data": {
      "image/png": "[encoded data removed]",
      "text/plain": [
       "<matplotlib.figure.Figure at 0x10ddd0e10>"
      ]
     },
     "metadata": {},
     "output_type": "display_data"
    }
   ],
   "source": [
    "X,y=generate(N,OUTLIERS)\n",
    "plot_generated_data(X,y)"
   ]
  },
  {
   "cell_type": "code",
   "execution_count": 62,
   "metadata": {},
   "outputs": [],
   "source": [
    "model=AdaptiveReglarizerHingeClassifier(gamma=0.0001,seed=0)"
   ]
  },
  {
   "cell_type": "code",
   "execution_count": 63,
   "metadata": {
    "scrolled": true
   },
   "outputs": [
    {
     "name": "stdout",
     "output_type": "stream",
     "text": [
      "epoch 100\n",
      "epoch 200\n",
      "epoch 300\n",
      "epoch 400\n",
      "epoch 500\n",
      "epoch 600\n",
      "epoch 700\n",
      "epoch 800\n",
      "epoch 900\n",
      "epoch 1000\n"
     ]
    }
   ],
   "source": [
    "model.fit(X,y,epochs=1000,batch_size=10)"
   ]
  },
  {
   "cell_type": "code",
   "execution_count": 64,
   "metadata": {},
   "outputs": [
    {
     "data": {
      "text/plain": [
       "0.98"
      ]
     },
     "execution_count": 64,
     "metadata": {},
     "output_type": "execute_result"
    }
   ],
   "source": [
    "model.evaluate(X,y)"
   ]
  },
  {
   "cell_type": "code",
   "execution_count": 65,
   "metadata": {},
   "outputs": [
    {
     "data": {
      "image/png": "[encoded data removed]",
      "text/plain": [
       "<matplotlib.figure.Figure at 0x10e8c4198>"
      ]
     },
     "metadata": {},
     "output_type": "display_data"
    }
   ],
   "source": [
    "plot_boundary(X,y,model.coef_)"
   ]
  },
  {
   "cell_type": "code",
   "execution_count": null,
   "metadata": {},
   "outputs": [],
   "source": []
  },
  {
   "cell_type": "code",
   "execution_count": null,
   "metadata": {},
   "outputs": [],
   "source": []
  },
  {
   "cell_type": "code",
   "execution_count": null,
   "metadata": {},
   "outputs": [],
   "source": []
  }
 ],
 "metadata": {
  "kernelspec": {
   "display_name": "Python 3",
   "language": "python",
   "name": "python3"
  },
  "language_info": {
   "codemirror_mode": {
    "name": "ipython",
    "version": 3
   },
   "file_extension": ".py",
   "mimetype": "text/x-python",
   "name": "python",
   "nbconvert_exporter": "python",
   "pygments_lexer": "ipython3",
   "version": "3.6.2"
  }
 },
 "nbformat": 4,
 "nbformat_minor": 2
}
