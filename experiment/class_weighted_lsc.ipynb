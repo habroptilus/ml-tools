{
 "cells": [
  {
   "cell_type": "markdown",
   "metadata": {},
   "source": [
    "# クラス比重み付け最小二乗分類を線形モデルに適用"
   ]
  },
  {
   "cell_type": "code",
   "execution_count": 1,
   "metadata": {},
   "outputs": [],
   "source": [
    "import numpy as np\n",
    "import sys,os\n",
    "sys.path.append(os.pardir)\n",
    "#from tools.utils.plot.boundary_plot import BinaryDataPlotter\n",
    "from tools.models.classifiers.class_weighted_linear_classifier import ClassWeightedLinearClassifier"
   ]
  },
  {
   "cell_type": "code",
   "execution_count": 2,
   "metadata": {},
   "outputs": [],
   "source": [
    "def generate(n,pi=0.9,pos_mu=[-2,0],neg_mu=[2,0],sigma=[[1,0],[0,2]],seed=None):\n",
    "    np.random.seed(seed)\n",
    "    n_majority=int(n*pi)\n",
    "    n_minority=n-n_majority\n",
    "    X_train_pos=np.random.multivariate_normal(pos_mu, sigma, n_majority)\n",
    "    X_train_neg=np.random.multivariate_normal(neg_mu, sigma, n_minority)\n",
    "    X_test_pos=np.random.multivariate_normal(pos_mu, sigma, n_minority)\n",
    "    X_test_neg=np.random.multivariate_normal(neg_mu, sigma, n_majority)\n",
    "    X_train = np.concatenate([X_train_pos,X_train_neg])\n",
    "    y_train = np.concatenate([np.ones(n_majority),-np.ones(n_minority)])\n",
    "    X_test = np.concatenate([X_test_pos,X_test_neg])\n",
    "    y_test = np.concatenate([np.ones(n_minority),-np.ones(n_majority)])\n",
    "    return X_train,y_train,X_test,y_test"
   ]
  },
  {
   "cell_type": "code",
   "execution_count": 3,
   "metadata": {},
   "outputs": [],
   "source": [
    "import matplotlib.pyplot as plt\n",
    "import numpy as np\n",
    "\n",
    "\n",
    "class BinaryLabeledPlotter:\n",
    "    \"\"\"binary dataをplotする.分類境界も表示(境界が直線のとき可能).\"\"\"\n",
    "\n",
    "    def __init__(self, pos_color=\"blue\", neg_color=\"red\",line_styles=[\"solid\",\"dashed\"],line_colors=[\"green\",\"black\"]):\n",
    "        self.pos_color = pos_color\n",
    "        self.neg_color = neg_color\n",
    "        self.line_styles=line_styles\n",
    "        self.line_colors=line_colors\n",
    "\n",
    "    def plot(self, X, y, title, models=None):\n",
    "        \"\"\"\n",
    "        y={1,-1}, \n",
    "        dim x = 2\n",
    "\n",
    "        f(1,x1,x2) = theta[1] * x1 + theta[2] * x2 + theta[0]  \n",
    "        \"\"\"\n",
    "        x1 = X[:, 0]\n",
    "        x2 = X[:, 1]\n",
    "        fig = plt.figure()\n",
    "        ax = fig.add_subplot(111)\n",
    "\n",
    "        ax.scatter(x1[y == 1], x2[y == 1], color=self.pos_color, marker=\"o\")\n",
    "        ax.scatter(x1[y == -1], x2[y == -1], color=self.neg_color, marker=\"x\")\n",
    "        if models is not None:\n",
    "            for i,d in enumerate(models): \n",
    "                theta=d[\"theta\"]\n",
    "                model=d[\"model\"]\n",
    "                x = np.linspace(min(X[:, 0]), max(X[:, 0]), 100)\n",
    "                y = -(theta[1] * x + theta[0]) / theta[2]\n",
    "                ax.plot(x, y, color=self.line_colors[i],linestyle=self.line_styles[i],label=model)\n",
    "\n",
    "        plt.title(title)\n",
    "        plt.legend()\n",
    "        plt.xlabel(\"x1\")\n",
    "        plt.ylabel(\"x2\")\n",
    "        plt.show()\n"
   ]
  },
  {
   "cell_type": "code",
   "execution_count": 4,
   "metadata": {},
   "outputs": [],
   "source": [
    "N=100\n",
    "SEED=0"
   ]
  },
  {
   "cell_type": "code",
   "execution_count": 5,
   "metadata": {},
   "outputs": [],
   "source": [
    "X_train,y_train,X_test,y_test=generate(n=N,seed=SEED)"
   ]
  },
  {
   "cell_type": "code",
   "execution_count": 6,
   "metadata": {},
   "outputs": [],
   "source": [
    "plotter=BinaryLabeledPlotter()"
   ]
  },
  {
   "cell_type": "code",
   "execution_count": 7,
   "metadata": {},
   "outputs": [
    {
     "name": "stderr",
     "output_type": "stream",
     "text": [
      "/Users/hikaru/.pyenv/versions/anaconda3-4.4.0/lib/python3.6/site-packages/matplotlib/axes/_axes.py:545: UserWarning: No labelled objects found. Use label='...' kwarg on individual plots.\n",
      "  warnings.warn(\"No labelled objects found. \"\n"
     ]
    },
    {
     "data": {
      "image/png": "[encoded data removed]",
      "text/plain": [
       "<matplotlib.figure.Figure at 0x104b41128>"
      ]
     },
     "metadata": {},
     "output_type": "display_data"
    }
   ],
   "source": [
    "plotter.plot(X_train,y_train,title=\"Generated(train)\")"
   ]
  },
  {
   "cell_type": "code",
   "execution_count": 8,
   "metadata": {},
   "outputs": [
    {
     "name": "stderr",
     "output_type": "stream",
     "text": [
      "/Users/hikaru/.pyenv/versions/anaconda3-4.4.0/lib/python3.6/site-packages/matplotlib/axes/_axes.py:545: UserWarning: No labelled objects found. Use label='...' kwarg on individual plots.\n",
      "  warnings.warn(\"No labelled objects found. \"\n"
     ]
    },
    {
     "data": {
      "image/png": "[encoded data removed]",
      "text/plain": [
       "<matplotlib.figure.Figure at 0x105a969e8>"
      ]
     },
     "metadata": {},
     "output_type": "display_data"
    }
   ],
   "source": [
    "plotter.plot(X_test,y_test,title=\"Generated(test)\")"
   ]
  },
  {
   "cell_type": "code",
   "execution_count": 9,
   "metadata": {},
   "outputs": [],
   "source": [
    "model=ClassWeightedLinearClassifier()"
   ]
  },
  {
   "cell_type": "code",
   "execution_count": 10,
   "metadata": {},
   "outputs": [
    {
     "name": "stdout",
     "output_type": "stream",
     "text": [
      "0.9\n"
     ]
    }
   ],
   "source": [
    "model.fit(X_train,y_train)"
   ]
  },
  {
   "cell_type": "code",
   "execution_count": 11,
   "metadata": {},
   "outputs": [
    {
     "name": "stdout",
     "output_type": "stream",
     "text": [
      "estimated pi: 0.069\n"
     ]
    }
   ],
   "source": [
    "pred=model.predict(X_test)"
   ]
  },
  {
   "cell_type": "code",
   "execution_count": 12,
   "metadata": {},
   "outputs": [
    {
     "data": {
      "image/png": "[encoded data removed]",
      "text/plain": [
       "<matplotlib.figure.Figure at 0x105ad8e10>"
      ]
     },
     "metadata": {},
     "output_type": "display_data"
    }
   ],
   "source": [
    "models=[{\"theta\":model.theta,\"model\":\"weighted\"}]\n",
    "plotter.plot(X_test,y_test,title=\"Result\",models=models)"
   ]
  },
  {
   "cell_type": "code",
   "execution_count": null,
   "metadata": {},
   "outputs": [],
   "source": []
  },
  {
   "cell_type": "code",
   "execution_count": null,
   "metadata": {},
   "outputs": [],
   "source": []
  }
 ],
 "metadata": {
  "kernelspec": {
   "display_name": "Python 3",
   "language": "python",
   "name": "python3"
  },
  "language_info": {
   "codemirror_mode": {
    "name": "ipython",
    "version": 3
   },
   "file_extension": ".py",
   "mimetype": "text/x-python",
   "name": "python",
   "nbconvert_exporter": "python",
   "pygments_lexer": "ipython3",
   "version": "3.6.2"
  }
 },
 "nbformat": 4,
 "nbformat_minor": 2
}
