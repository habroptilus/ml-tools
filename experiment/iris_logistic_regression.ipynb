{
 "cells": [
  {
   "cell_type": "code",
   "execution_count": 13,
   "metadata": {},
   "outputs": [],
   "source": [
    "import sys,os\n",
    "sys.path.append(os.pardir)\n",
    "from tools.utils.multi_cls.one_vs_rest_classifier import OneVsRestClassifier\n",
    "from tools.utils.multi_cls.one_vs_one_classifier import OneVsOneClassifier\n",
    "from sklearn.linear_model import LogisticRegression\n",
    "from sklearn.datasets import load_iris\n",
    "from sklearn.model_selection import train_test_split"
   ]
  },
  {
   "cell_type": "code",
   "execution_count": 16,
   "metadata": {},
   "outputs": [
    {
     "data": {
      "text/plain": [
       "((120, 4), (120,), (30, 4), (30,))"
      ]
     },
     "execution_count": 16,
     "metadata": {},
     "output_type": "execute_result"
    }
   ],
   "source": [
    "CLASS_NUM = 3\n",
    "iris =load_iris()  \n",
    "X_train,X_test,y_train,y_test=train_test_split(iris.data,iris.target,test_size=0.2)\n",
    "X_train.shape,y_train.shape,X_test.shape,y_test.shape"
   ]
  },
  {
   "cell_type": "code",
   "execution_count": 17,
   "metadata": {},
   "outputs": [
    {
     "name": "stdout",
     "output_type": "stream",
     "text": [
      "Training classifier0...\n",
      "Training classifier1...\n",
      "Training classifier2...\n",
      "Test Accuracy = 100.00%\n"
     ]
    }
   ],
   "source": [
    "# logistic regression (one vs rest)\n",
    "multi_classifier = OneVsRestClassifier(\n",
    "    class_num=CLASS_NUM, classifier=LogisticRegression)\n",
    "\n",
    "multi_classifier.fit(X_train, y_train)\n",
    "acc = multi_classifier.evaluate(X_test, y_test)\n",
    "\n",
    "print(f\"Test Accuracy = {acc*100:.2f}%\")"
   ]
  },
  {
   "cell_type": "code",
   "execution_count": 18,
   "metadata": {},
   "outputs": [
    {
     "name": "stdout",
     "output_type": "stream",
     "text": [
      "Training classifier0...\n",
      "Training classifier1...\n",
      "Training classifier2...\n",
      "Test Accuracy = 96.67%\n"
     ]
    }
   ],
   "source": [
    "# logistic regression (one vs one)\n",
    "multi_classifier = OneVsOneClassifier(\n",
    "    class_num=CLASS_NUM, classifier=LogisticRegression)\n",
    "\n",
    "multi_classifier.fit(X_train, y_train)\n",
    "acc = multi_classifier.evaluate(X_test, y_test)\n",
    "\n",
    "print(f\"Test Accuracy = {acc*100:.2f}%\")"
   ]
  },
  {
   "cell_type": "code",
   "execution_count": 19,
   "metadata": {},
   "outputs": [
    {
     "name": "stdout",
     "output_type": "stream",
     "text": [
      "Test Accuracy = 100.00%\n"
     ]
    }
   ],
   "source": [
    "# logistic regression (sk-learn)\n",
    "model=LogisticRegression()\n",
    "model.fit(X_train,y_train)\n",
    "acc=model.score(X_test,y_test)\n",
    "print(f\"Test Accuracy = {acc*100:.2f}%\")"
   ]
  },
  {
   "cell_type": "code",
   "execution_count": null,
   "metadata": {},
   "outputs": [],
   "source": []
  }
 ],
 "metadata": {
  "kernelspec": {
   "display_name": "Python 3",
   "language": "python",
   "name": "python3"
  },
  "language_info": {
   "codemirror_mode": {
    "name": "ipython",
    "version": 3
   },
   "file_extension": ".py",
   "mimetype": "text/x-python",
   "name": "python",
   "nbconvert_exporter": "python",
   "pygments_lexer": "ipython3",
   "version": "3.6.2"
  }
 },
 "nbformat": 4,
 "nbformat_minor": 2
}
